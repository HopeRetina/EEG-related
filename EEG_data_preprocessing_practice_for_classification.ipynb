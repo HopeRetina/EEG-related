{
  "nbformat": 4,
  "nbformat_minor": 0,
  "metadata": {
    "colab": {
      "provenance": [],
      "authorship_tag": "ABX9TyMD7aLqAO91MfMgTAy3NUl4",
      "include_colab_link": true
    },
    "kernelspec": {
      "name": "python3",
      "display_name": "Python 3"
    },
    "language_info": {
      "name": "python"
    }
  },
  "cells": [
    {
      "cell_type": "markdown",
      "metadata": {
        "id": "view-in-github",
        "colab_type": "text"
      },
      "source": [
        "<a href=\"https://colab.research.google.com/github/HopeRetina/EEG-related/blob/main/EEG_data_preprocessing_practice_for_classification.ipynb\" target=\"_parent\"><img src=\"https://colab.research.google.com/assets/colab-badge.svg\" alt=\"Open In Colab\"/></a>"
      ]
    },
    {
      "cell_type": "markdown",
      "source": [
        "Here I used the mne library to preprocess EEG data from [this paper.](https://journals.plos.org/plosone/article?id=10.1371/journal.pone.0188629)"
      ],
      "metadata": {
        "id": "aTWxr6KYQonH"
      }
    },
    {
      "cell_type": "code",
      "source": [
        "!pip install mne"
      ],
      "metadata": {
        "colab": {
          "base_uri": "https://localhost:8080/"
        },
        "id": "HPKjLWIvTceo",
        "outputId": "738fa71c-edcc-4f77-9614-b6ca971598e4"
      },
      "execution_count": 1,
      "outputs": [
        {
          "output_type": "stream",
          "name": "stdout",
          "text": [
            "Looking in indexes: https://pypi.org/simple, https://us-python.pkg.dev/colab-wheels/public/simple/\n",
            "Collecting mne\n",
            "  Downloading mne-1.3.1-py3-none-any.whl (7.6 MB)\n",
            "\u001b[2K     \u001b[90m━━━━━━━━━━━━━━━━━━━━━━━━━━━━━━━━━━━━━━━━\u001b[0m \u001b[32m7.6/7.6 MB\u001b[0m \u001b[31m33.4 MB/s\u001b[0m eta \u001b[36m0:00:00\u001b[0m\n",
            "\u001b[?25hRequirement already satisfied: packaging in /usr/local/lib/python3.8/dist-packages (from mne) (23.0)\n",
            "Requirement already satisfied: decorator in /usr/local/lib/python3.8/dist-packages (from mne) (4.4.2)\n",
            "Requirement already satisfied: numpy>=1.15.4 in /usr/local/lib/python3.8/dist-packages (from mne) (1.22.4)\n",
            "Requirement already satisfied: matplotlib in /usr/local/lib/python3.8/dist-packages (from mne) (3.5.3)\n",
            "Requirement already satisfied: scipy>=1.1.0 in /usr/local/lib/python3.8/dist-packages (from mne) (1.7.3)\n",
            "Requirement already satisfied: jinja2 in /usr/local/lib/python3.8/dist-packages (from mne) (3.1.2)\n",
            "Requirement already satisfied: tqdm in /usr/local/lib/python3.8/dist-packages (from mne) (4.64.1)\n",
            "Requirement already satisfied: pooch>=1.5 in /usr/local/lib/python3.8/dist-packages (from mne) (1.6.0)\n",
            "Requirement already satisfied: requests>=2.19.0 in /usr/local/lib/python3.8/dist-packages (from pooch>=1.5->mne) (2.25.1)\n",
            "Requirement already satisfied: appdirs>=1.3.0 in /usr/local/lib/python3.8/dist-packages (from pooch>=1.5->mne) (1.4.4)\n",
            "Requirement already satisfied: MarkupSafe>=2.0 in /usr/local/lib/python3.8/dist-packages (from jinja2->mne) (2.1.2)\n",
            "Requirement already satisfied: pyparsing>=2.2.1 in /usr/local/lib/python3.8/dist-packages (from matplotlib->mne) (3.0.9)\n",
            "Requirement already satisfied: python-dateutil>=2.7 in /usr/local/lib/python3.8/dist-packages (from matplotlib->mne) (2.8.2)\n",
            "Requirement already satisfied: pillow>=6.2.0 in /usr/local/lib/python3.8/dist-packages (from matplotlib->mne) (8.4.0)\n",
            "Requirement already satisfied: kiwisolver>=1.0.1 in /usr/local/lib/python3.8/dist-packages (from matplotlib->mne) (1.4.4)\n",
            "Requirement already satisfied: fonttools>=4.22.0 in /usr/local/lib/python3.8/dist-packages (from matplotlib->mne) (4.38.0)\n",
            "Requirement already satisfied: cycler>=0.10 in /usr/local/lib/python3.8/dist-packages (from matplotlib->mne) (0.11.0)\n",
            "Requirement already satisfied: six>=1.5 in /usr/local/lib/python3.8/dist-packages (from python-dateutil>=2.7->matplotlib->mne) (1.15.0)\n",
            "Requirement already satisfied: idna<3,>=2.5 in /usr/local/lib/python3.8/dist-packages (from requests>=2.19.0->pooch>=1.5->mne) (2.10)\n",
            "Requirement already satisfied: chardet<5,>=3.0.2 in /usr/local/lib/python3.8/dist-packages (from requests>=2.19.0->pooch>=1.5->mne) (4.0.0)\n",
            "Requirement already satisfied: urllib3<1.27,>=1.21.1 in /usr/local/lib/python3.8/dist-packages (from requests>=2.19.0->pooch>=1.5->mne) (1.26.14)\n",
            "Requirement already satisfied: certifi>=2017.4.17 in /usr/local/lib/python3.8/dist-packages (from requests>=2.19.0->pooch>=1.5->mne) (2022.12.7)\n",
            "Installing collected packages: mne\n",
            "Successfully installed mne-1.3.1\n"
          ]
        }
      ]
    },
    {
      "cell_type": "code",
      "execution_count": 2,
      "metadata": {
        "id": "sqh-4v3pTI9a"
      },
      "outputs": [],
      "source": [
        "from glob import glob\n",
        "import os\n",
        "import mne\n",
        "import numpy as np\n",
        "import pandas as pd\n",
        "import matplotlib.pyplot as plt"
      ]
    },
    {
      "cell_type": "code",
      "source": [
        "from google.colab import drive\n",
        "drive.mount('/content/drive')"
      ],
      "metadata": {
        "colab": {
          "base_uri": "https://localhost:8080/"
        },
        "id": "nzEAzJmxTVRw",
        "outputId": "2526a702-b98a-4ce0-988f-b6f6e8c9f9fe"
      },
      "execution_count": 3,
      "outputs": [
        {
          "output_type": "stream",
          "name": "stdout",
          "text": [
            "Mounted at /content/drive\n"
          ]
        }
      ]
    },
    {
      "cell_type": "code",
      "source": [
        "cd /content/drive/MyDrive/data_collection/"
      ],
      "metadata": {
        "colab": {
          "base_uri": "https://localhost:8080/"
        },
        "id": "I9uPOV4pVTdL",
        "outputId": "38616131-b4f3-47b6-8b6d-cfe852fa225d"
      },
      "execution_count": 4,
      "outputs": [
        {
          "output_type": "stream",
          "name": "stdout",
          "text": [
            "/content/drive/MyDrive/data_collection\n"
          ]
        }
      ]
    },
    {
      "cell_type": "code",
      "source": [
        "all_file_path = glob('dataverse_files/*.edf')\n",
        "\n",
        "print(len(all_file_path))"
      ],
      "metadata": {
        "colab": {
          "base_uri": "https://localhost:8080/"
        },
        "id": "aqaAokqCXN_9",
        "outputId": "8fce5c33-08ac-4578-fcab-95334f73ff24"
      },
      "execution_count": 5,
      "outputs": [
        {
          "output_type": "stream",
          "name": "stdout",
          "text": [
            "28\n"
          ]
        }
      ]
    },
    {
      "cell_type": "code",
      "source": [
        "all_file_path"
      ],
      "metadata": {
        "colab": {
          "base_uri": "https://localhost:8080/"
        },
        "id": "yvjqRGpSZ3Mk",
        "outputId": "7a1fdc86-8bcf-46f3-f96a-ee55ed0da961"
      },
      "execution_count": 6,
      "outputs": [
        {
          "output_type": "execute_result",
          "data": {
            "text/plain": [
              "['dataverse_files/h01.edf',\n",
              " 'dataverse_files/h02.edf',\n",
              " 'dataverse_files/h03.edf',\n",
              " 'dataverse_files/h04.edf',\n",
              " 'dataverse_files/h05.edf',\n",
              " 'dataverse_files/h06.edf',\n",
              " 'dataverse_files/h07.edf',\n",
              " 'dataverse_files/h08.edf',\n",
              " 'dataverse_files/h09.edf',\n",
              " 'dataverse_files/h10.edf',\n",
              " 'dataverse_files/h11.edf',\n",
              " 'dataverse_files/h12.edf',\n",
              " 'dataverse_files/h14.edf',\n",
              " 'dataverse_files/h13.edf',\n",
              " 'dataverse_files/s01.edf',\n",
              " 'dataverse_files/s02.edf',\n",
              " 'dataverse_files/s03.edf',\n",
              " 'dataverse_files/s04.edf',\n",
              " 'dataverse_files/s05.edf',\n",
              " 'dataverse_files/s06.edf',\n",
              " 'dataverse_files/s07.edf',\n",
              " 'dataverse_files/s08.edf',\n",
              " 'dataverse_files/s09.edf',\n",
              " 'dataverse_files/s10.edf',\n",
              " 'dataverse_files/s11.edf',\n",
              " 'dataverse_files/s12.edf',\n",
              " 'dataverse_files/s13.edf',\n",
              " 'dataverse_files/s14.edf']"
            ]
          },
          "metadata": {},
          "execution_count": 6
        }
      ]
    },
    {
      "cell_type": "code",
      "source": [
        "# Separate patient data from healthy (control) data by the starting letter\n",
        "\n",
        "healthy_path = [i for i in all_file_path if 'h' in i.split('/')[-1]]\n",
        "patient_path = [i for i in all_file_path if 's' in i.split('/')[-1]]\n",
        "\n",
        "print(len(healthy_path))\n",
        "print(len(patient_path))"
      ],
      "metadata": {
        "colab": {
          "base_uri": "https://localhost:8080/"
        },
        "id": "HBSz68abaFA3",
        "outputId": "3754fef0-5150-4d27-f18c-014e212f7444"
      },
      "execution_count": 7,
      "outputs": [
        {
          "output_type": "stream",
          "name": "stdout",
          "text": [
            "14\n",
            "14\n"
          ]
        }
      ]
    },
    {
      "cell_type": "code",
      "source": [
        "# Write a function to read data\n",
        "\n",
        "def read_data(file_path):\n",
        "  data = mne.io.read_raw_edf(file_path, preload=True)\n",
        "  data.set_eeg_reference()\n",
        "  data.filter(l_freq=0.5, h_freq=45)\n",
        "  epochs = mne.make_fixed_length_epochs(data, duration=5, overlap=1)\n",
        "  array = epochs.get_data()\n",
        "  return array\n"
      ],
      "metadata": {
        "id": "l6ZmnjFTamaV"
      },
      "execution_count": 12,
      "outputs": []
    },
    {
      "cell_type": "code",
      "source": [
        "sample = read_data(healthy_path[0])"
      ],
      "metadata": {
        "colab": {
          "base_uri": "https://localhost:8080/"
        },
        "id": "IkXI-F9GeneP",
        "outputId": "a2d83253-3a5f-4987-b8bf-b3a9fa2710a5"
      },
      "execution_count": 13,
      "outputs": [
        {
          "output_type": "stream",
          "name": "stdout",
          "text": [
            "Extracting EDF parameters from /content/drive/MyDrive/data_collection/dataverse_files/h01.edf...\n",
            "EDF file detected\n",
            "Setting channel info structure...\n",
            "Creating raw.info structure...\n",
            "Reading 0 ... 231249  =      0.000 ...   924.996 secs...\n",
            "EEG channel type selected for re-referencing\n",
            "Applying average reference.\n",
            "Applying a custom ('EEG',) reference.\n",
            "Filtering raw data in 1 contiguous segment\n",
            "Setting up band-pass filter from 0.5 - 45 Hz\n",
            "\n",
            "FIR filter parameters\n",
            "---------------------\n",
            "Designing a one-pass, zero-phase, non-causal bandpass filter:\n",
            "- Windowed time-domain design (firwin) method\n",
            "- Hamming window with 0.0194 passband ripple and 53 dB stopband attenuation\n",
            "- Lower passband edge: 0.50\n",
            "- Lower transition bandwidth: 0.50 Hz (-6 dB cutoff frequency: 0.25 Hz)\n",
            "- Upper passband edge: 45.00 Hz\n",
            "- Upper transition bandwidth: 11.25 Hz (-6 dB cutoff frequency: 50.62 Hz)\n",
            "- Filter length: 1651 samples (6.604 sec)\n",
            "\n",
            "Not setting metadata\n",
            "231 matching events found\n"
          ]
        },
        {
          "output_type": "stream",
          "name": "stderr",
          "text": [
            "[Parallel(n_jobs=1)]: Using backend SequentialBackend with 1 concurrent workers.\n",
            "[Parallel(n_jobs=1)]: Done   1 out of   1 | elapsed:    0.0s remaining:    0.0s\n",
            "[Parallel(n_jobs=1)]: Done   2 out of   2 | elapsed:    0.0s remaining:    0.0s\n",
            "[Parallel(n_jobs=1)]: Done   3 out of   3 | elapsed:    0.0s remaining:    0.0s\n",
            "[Parallel(n_jobs=1)]: Done   4 out of   4 | elapsed:    0.0s remaining:    0.0s\n",
            "[Parallel(n_jobs=1)]: Done  19 out of  19 | elapsed:    0.2s finished\n"
          ]
        },
        {
          "output_type": "stream",
          "name": "stdout",
          "text": [
            "No baseline correction applied\n",
            "0 projection items activated\n",
            "Using data from preloaded Raw for 231 events and 1250 original time points ...\n",
            "0 bad epochs dropped\n"
          ]
        }
      ]
    },
    {
      "cell_type": "code",
      "source": [
        "# check the shape: num of epochs, num of channel, signal length\n",
        "sample.shape"
      ],
      "metadata": {
        "colab": {
          "base_uri": "https://localhost:8080/"
        },
        "id": "s5AWLAn3ezsb",
        "outputId": "43ee542f-3a40-497c-ee70-d808b7caa0c1"
      },
      "execution_count": 10,
      "outputs": [
        {
          "output_type": "execute_result",
          "data": {
            "text/plain": [
              "(231, 19, 1250)"
            ]
          },
          "metadata": {},
          "execution_count": 10
        }
      ]
    },
    {
      "cell_type": "code",
      "source": [
        "%%capture\n",
        "control_arr = [read_data(i) for i in healthy_path]\n",
        "patient_arr = [read_data(i) for i in patient_path]"
      ],
      "metadata": {
        "id": "TAaFTTkUfRK1"
      },
      "execution_count": 11,
      "outputs": []
    },
    {
      "cell_type": "code",
      "source": [
        "control_arr[0].shape"
      ],
      "metadata": {
        "colab": {
          "base_uri": "https://localhost:8080/"
        },
        "id": "R4nr2bBHgpS7",
        "outputId": "c53b4e70-cdd2-4108-b4bd-274d7e9eaade"
      },
      "execution_count": 14,
      "outputs": [
        {
          "output_type": "execute_result",
          "data": {
            "text/plain": [
              "(231, 19, 1250)"
            ]
          },
          "metadata": {},
          "execution_count": 14
        }
      ]
    },
    {
      "cell_type": "code",
      "source": [
        "# Create labels\n",
        "control_labels = [len(i)*[0] for i in control_arr]\n",
        "patient_labels = [len(i)*[1] for i in patient_arr]\n",
        "\n",
        "print(len(control_labels))\n",
        "print(len(patient_labels))"
      ],
      "metadata": {
        "colab": {
          "base_uri": "https://localhost:8080/"
        },
        "id": "5QOPvYfihCD9",
        "outputId": "9c2ea98e-f02c-420b-f1d1-416a6ee7f3ab"
      },
      "execution_count": 15,
      "outputs": [
        {
          "output_type": "stream",
          "name": "stdout",
          "text": [
            "14\n",
            "14\n"
          ]
        }
      ]
    },
    {
      "cell_type": "code",
      "source": [
        "# Combine data and labels\n",
        "data = control_arr + patient_arr\n",
        "labels = control_labels + patient_labels"
      ],
      "metadata": {
        "id": "iFpWJUKtgy_s"
      },
      "execution_count": 16,
      "outputs": []
    },
    {
      "cell_type": "code",
      "source": [
        "group_list = [[i]*len(j) for i,j in enumerate(data)]\n",
        "\n",
        "len(group_list)"
      ],
      "metadata": {
        "colab": {
          "base_uri": "https://localhost:8080/"
        },
        "id": "xk3hWPHSiL9d",
        "outputId": "054daee1-2e08-4da3-d1ba-45ba67714abe"
      },
      "execution_count": 17,
      "outputs": [
        {
          "output_type": "execute_result",
          "data": {
            "text/plain": [
              "28"
            ]
          },
          "metadata": {},
          "execution_count": 17
        }
      ]
    },
    {
      "cell_type": "code",
      "source": [
        "group_list[0]"
      ],
      "metadata": {
        "id": "2ZD3slR-i2oK"
      },
      "execution_count": null,
      "outputs": []
    },
    {
      "cell_type": "code",
      "source": [
        "data_arr = np.vstack(data)\n",
        "label_arr = np.hstack(labels)\n",
        "group_arr = np.hstack(group_list)\n",
        "\n",
        "print(data_arr.shape)\n",
        "print(label_arr.shape)\n",
        "print(group_arr.shape)"
      ],
      "metadata": {
        "colab": {
          "base_uri": "https://localhost:8080/"
        },
        "id": "tjsvGPeai8E8",
        "outputId": "b0aa4a17-e93e-4cec-f74f-2e2bd4b1696f"
      },
      "execution_count": 24,
      "outputs": [
        {
          "output_type": "stream",
          "name": "stdout",
          "text": [
            "(7201, 19, 1250)\n",
            "(7201,)\n",
            "(7201,)\n"
          ]
        }
      ]
    },
    {
      "cell_type": "code",
      "source": [
        "from scipy import stats\n",
        "\n",
        "# Write udfs to make feature matrix\n",
        "\n",
        "def mean(x):\n",
        "  return np.mean(x, axis=-1)\n",
        "\n",
        "def std(x):\n",
        "  return np.std(x, axis=-1)\n",
        "\n",
        "def ptp(x):\n",
        "  return np.ptp(x, axis=-1)\n",
        "\n",
        "def var(x):\n",
        "  return np.var(x, axis=-1)\n",
        "\n",
        "def minimum(x):\n",
        "  return np.min(x, axis=-1)\n",
        "def maximum(x):\n",
        "  return np.max(x, axis=-1)\n",
        "\n",
        "def argmin(x):\n",
        "  return np.argmin(x, axis=-1)\n",
        "\n",
        "def argmax(x):\n",
        "  return np.argmax(x, axis=-1)\n",
        "\n",
        "def rms(x):\n",
        "  return np.sqrt(np.mean(x**2, axis=-1))\n",
        "\n",
        "def abs_diff_signal(x):\n",
        "  return np.sum(np.abs(np.diff(x, axis=-1)), axis=-1)\n",
        "\n",
        "def skewness(x):\n",
        "  return stats.skew(x, axis=-1)\n",
        "\n",
        "def kurtosis(x):\n",
        "  return stats.kurtosis(x, axis=-1)\n",
        "\n",
        "def concatenate_features(x):\n",
        "  return np.concatenate((mean(x),\n",
        "                         std(x),\n",
        "                         ptp(x),\n",
        "                         var(x),\n",
        "                         minimum(x),\n",
        "                         maximum(x),\n",
        "                         argmin(x),\n",
        "                         argmax(x),\n",
        "                         rms(x),\n",
        "                         abs_diff_signal(x),\n",
        "                         skewness(x),\n",
        "                         kurtosis(x)),\n",
        "                        axis=-1)"
      ],
      "metadata": {
        "id": "D-MphmKli-1Z"
      },
      "execution_count": 25,
      "outputs": []
    },
    {
      "cell_type": "code",
      "source": [
        "# Create features\n",
        "\n",
        "features = []\n",
        "\n",
        "for d in data_arr:\n",
        "  features.append(concatenate_features(d))"
      ],
      "metadata": {
        "id": "4xSC_oUWXTi6"
      },
      "execution_count": 26,
      "outputs": []
    },
    {
      "cell_type": "code",
      "source": [
        "features_arr = np.array(features) # Convert into an np array\n",
        "features_arr.shape"
      ],
      "metadata": {
        "colab": {
          "base_uri": "https://localhost:8080/"
        },
        "id": "pFJlJkhtX28I",
        "outputId": "b311261f-f529-4c1b-f5bb-f01d5cb89b4c"
      },
      "execution_count": 28,
      "outputs": [
        {
          "output_type": "execute_result",
          "data": {
            "text/plain": [
              "(7201, 228)"
            ]
          },
          "metadata": {},
          "execution_count": 28
        }
      ]
    },
    {
      "cell_type": "markdown",
      "source": [
        "#Now try a few classification models\n",
        "##logistic regresion"
      ],
      "metadata": {
        "id": "v5jkx9YZZ3hU"
      }
    },
    {
      "cell_type": "code",
      "source": [
        "from sklearn.linear_model import LogisticRegression\n",
        "from sklearn.pipeline import Pipeline\n",
        "from sklearn.preprocessing import StandardScaler\n",
        "from sklearn.model_selection import GroupKFold, GridSearchCV"
      ],
      "metadata": {
        "id": "X3j_Vjc3Znpv"
      },
      "execution_count": 29,
      "outputs": []
    },
    {
      "cell_type": "code",
      "source": [
        "clf = LogisticRegression()\n",
        "\n",
        "gkf=GroupKFold(5)\n",
        "\n",
        "pipeline = Pipeline( [('scaler', StandardScaler()), \n",
        "                      ('clf', clf)] )\n",
        "\n",
        "param_grid = {'clf__C': [0.1, 0.5, 0.7, 1, 3, 5, 7]}\n",
        "\n",
        "gscv = GridSearchCV(pipeline, param_grid, cv=gkf, n_jobs=12)\n",
        "\n",
        "gscv.fit(features_arr, label_arr, groups=group_arr)"
      ],
      "metadata": {
        "colab": {
          "base_uri": "https://localhost:8080/"
        },
        "id": "VSUQopPDaQLb",
        "outputId": "e12e5a4c-851b-4c00-ff9e-b6170dca987a"
      },
      "execution_count": 30,
      "outputs": [
        {
          "output_type": "stream",
          "name": "stderr",
          "text": [
            "/usr/local/lib/python3.8/dist-packages/sklearn/linear_model/_logistic.py:814: ConvergenceWarning: lbfgs failed to converge (status=1):\n",
            "STOP: TOTAL NO. of ITERATIONS REACHED LIMIT.\n",
            "\n",
            "Increase the number of iterations (max_iter) or scale the data as shown in:\n",
            "    https://scikit-learn.org/stable/modules/preprocessing.html\n",
            "Please also refer to the documentation for alternative solver options:\n",
            "    https://scikit-learn.org/stable/modules/linear_model.html#logistic-regression\n",
            "  n_iter_i = _check_optimize_result(\n"
          ]
        },
        {
          "output_type": "execute_result",
          "data": {
            "text/plain": [
              "GridSearchCV(cv=GroupKFold(n_splits=5),\n",
              "             estimator=Pipeline(steps=[('scaler', StandardScaler()),\n",
              "                                       ('clf', LogisticRegression())]),\n",
              "             n_jobs=12, param_grid={'clf__C': [0.1, 0.5, 0.7, 1, 3, 5, 7]})"
            ]
          },
          "metadata": {},
          "execution_count": 30
        }
      ]
    },
    {
      "cell_type": "code",
      "source": [
        "gscv.best_score_"
      ],
      "metadata": {
        "colab": {
          "base_uri": "https://localhost:8080/"
        },
        "id": "H4otKMljdD1t",
        "outputId": "021ebe9f-5d7e-4fa5-e863-cb53c5b45f6a"
      },
      "execution_count": 32,
      "outputs": [
        {
          "output_type": "execute_result",
          "data": {
            "text/plain": [
              "0.641518291987081"
            ]
          },
          "metadata": {},
          "execution_count": 32
        }
      ]
    },
    {
      "cell_type": "code",
      "source": [],
      "metadata": {
        "id": "eCitPEbodR-L"
      },
      "execution_count": null,
      "outputs": []
    }
  ]
}